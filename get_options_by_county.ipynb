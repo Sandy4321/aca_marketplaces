{
 "cells": [
  {
   "cell_type": "code",
   "execution_count": 120,
   "metadata": {
    "collapsed": true
   },
   "outputs": [],
   "source": [
    "import pandas as pd"
   ]
  },
  {
   "cell_type": "code",
   "execution_count": 46,
   "metadata": {
    "collapsed": true
   },
   "outputs": [],
   "source": [
    "svArea20142016 = pd.read_csv('service-area-2014-2016.csv', dtype={'County': str})\n",
    "svArea2017 = pd.read_csv('service-area-2017.csv',  dtype={'County': str})\n"
   ]
  },
  {
   "cell_type": "code",
   "execution_count": 48,
   "metadata": {
    "collapsed": true
   },
   "outputs": [],
   "source": [
    "colsToKeep = [\n",
    "    'BusinessYear', \n",
    "    'StateCode', \n",
    "    'ServiceAreaId', \n",
    "    'ServiceAreaName', \n",
    "    'CoverEntireState', \n",
    "    'County', \n",
    "    'IssuerId']\n",
    "def filterSvArea(df):\n",
    "    df['County'] = df.County.str.replace('\\.0', '')\n",
    "    return df[(df.MarketCoverage == 'Individual') & (df.DentalOnlyPlan == 'No')][colsToKeep]\n",
    "   "
   ]
  },
  {
   "cell_type": "code",
   "execution_count": 49,
   "metadata": {
    "collapsed": false
   },
   "outputs": [],
   "source": [
    "svAreas = pd.concat([filterSvArea(svArea20142016),filterSvArea(svArea2017)])"
   ]
  },
  {
   "cell_type": "code",
   "execution_count": 119,
   "metadata": {
    "collapsed": false
   },
   "outputs": [
    {
     "data": {
      "text/plain": [
       "array(['AL', 'AR', 'GA', 'IL', 'IN', 'KY', 'ME', 'MI', 'MO', 'MT', 'NH',\n",
       "       'NM', 'NV', 'OK', 'SC', 'TX', 'VA', 'WI', 'DE', 'HI', 'IA', 'KS',\n",
       "       'NE', 'OH', 'OR', 'PA', 'SD', 'UT', 'WV'], dtype=object)"
      ]
     },
     "execution_count": 119,
     "metadata": {},
     "output_type": "execute_result"
    }
   ],
   "source": [
    "svAreas[svAreas.BusinessYear == 2017].StateCode.unique()"
   ]
  },
  {
   "cell_type": "markdown",
   "metadata": {},
   "source": [
    "- filter down to issuers/serviceAreas that only cover entire states"
   ]
  },
  {
   "cell_type": "code",
   "execution_count": 51,
   "metadata": {
    "collapsed": false
   },
   "outputs": [
    {
     "data": {
      "text/html": [
       "<div>\n",
       "<table border=\"1\" class=\"dataframe\">\n",
       "  <thead>\n",
       "    <tr style=\"text-align: right;\">\n",
       "      <th></th>\n",
       "      <th>BusinessYear</th>\n",
       "      <th>StateCode</th>\n",
       "      <th>IssuerId</th>\n",
       "    </tr>\n",
       "  </thead>\n",
       "  <tbody>\n",
       "    <tr>\n",
       "      <th>0</th>\n",
       "      <td>2014</td>\n",
       "      <td>AK</td>\n",
       "      <td>38344</td>\n",
       "    </tr>\n",
       "    <tr>\n",
       "      <th>1</th>\n",
       "      <td>2014</td>\n",
       "      <td>AR</td>\n",
       "      <td>75293</td>\n",
       "    </tr>\n",
       "    <tr>\n",
       "      <th>2</th>\n",
       "      <td>2014</td>\n",
       "      <td>DE</td>\n",
       "      <td>13537</td>\n",
       "    </tr>\n",
       "    <tr>\n",
       "      <th>3</th>\n",
       "      <td>2014</td>\n",
       "      <td>DE</td>\n",
       "      <td>76168</td>\n",
       "    </tr>\n",
       "    <tr>\n",
       "      <th>4</th>\n",
       "      <td>2014</td>\n",
       "      <td>DE</td>\n",
       "      <td>81914</td>\n",
       "    </tr>\n",
       "  </tbody>\n",
       "</table>\n",
       "</div>"
      ],
      "text/plain": [
       "   BusinessYear StateCode  IssuerId\n",
       "0          2014        AK     38344\n",
       "1          2014        AR     75293\n",
       "2          2014        DE     13537\n",
       "3          2014        DE     76168\n",
       "4          2014        DE     81914"
      ]
     },
     "execution_count": 51,
     "metadata": {},
     "output_type": "execute_result"
    }
   ],
   "source": [
    "colsToKeep = ['BusinessYear', 'StateCode', 'IssuerId']\n",
    "entireState = svAreas[svAreas.CoverEntireState == \"Yes\"]\n",
    "entireState = entireState.groupby(['BusinessYear','StateCode', 'IssuerId']).count().reset_index()[colsToKeep]\n",
    "entireState.head()"
   ]
  },
  {
   "cell_type": "markdown",
   "metadata": {},
   "source": [
    "Read in the fips codes. To faciliate a join later, we need to duplicate the counties so each county has four records in the data -- one for each year we have health insurance info for."
   ]
  },
  {
   "cell_type": "code",
   "execution_count": 68,
   "metadata": {
    "collapsed": false
   },
   "outputs": [],
   "source": [
    "fipsCodes = pd.read_csv('fips-codes.csv', header=None, dtype=dtypes).rename(columns=colNames)\n",
    "fipsCodes['County'] = fipsCodes.StateFP.str.cat(fipsCodes.CountyFP)\n",
    "numCounties = fipsCodes.shape[0]\n",
    "fipsCodes = pd.concat([fipsCodes, fipsCodes, fipsCodes, fipsCodes])\n",
    "fipsCodes['BusinessYear'] = 0\n",
    "fipsCodes = fipsCodes.reset_index()\n",
    "\n",
    "for i, year in enumerate([2014,2015,2016,2017]):\n",
    "    begIndex = i * numCounties\n",
    "    endIndex = begIndex + numCounties\n",
    "    fipsCodes.loc[begIndex:endIndex, 'BusinessYear'] = year"
   ]
  },
  {
   "cell_type": "code",
   "execution_count": 66,
   "metadata": {
    "collapsed": false
   },
   "outputs": [
    {
     "data": {
      "text/html": [
       "<div>\n",
       "<table border=\"1\" class=\"dataframe\">\n",
       "  <thead>\n",
       "    <tr style=\"text-align: right;\">\n",
       "      <th></th>\n",
       "      <th>index</th>\n",
       "      <th>StateCode</th>\n",
       "      <th>StateFP</th>\n",
       "      <th>CountyFP</th>\n",
       "      <th>CountyName</th>\n",
       "      <th>ClassFP</th>\n",
       "      <th>County</th>\n",
       "      <th>BusinessYear</th>\n",
       "    </tr>\n",
       "  </thead>\n",
       "  <tbody>\n",
       "    <tr>\n",
       "      <th>0</th>\n",
       "      <td>0</td>\n",
       "      <td>AL</td>\n",
       "      <td>01</td>\n",
       "      <td>001</td>\n",
       "      <td>Autauga County</td>\n",
       "      <td>H1</td>\n",
       "      <td>01001</td>\n",
       "      <td>2014</td>\n",
       "    </tr>\n",
       "    <tr>\n",
       "      <th>1</th>\n",
       "      <td>1</td>\n",
       "      <td>AL</td>\n",
       "      <td>01</td>\n",
       "      <td>003</td>\n",
       "      <td>Baldwin County</td>\n",
       "      <td>H1</td>\n",
       "      <td>01003</td>\n",
       "      <td>2014</td>\n",
       "    </tr>\n",
       "    <tr>\n",
       "      <th>2</th>\n",
       "      <td>2</td>\n",
       "      <td>AL</td>\n",
       "      <td>01</td>\n",
       "      <td>005</td>\n",
       "      <td>Barbour County</td>\n",
       "      <td>H1</td>\n",
       "      <td>01005</td>\n",
       "      <td>2014</td>\n",
       "    </tr>\n",
       "    <tr>\n",
       "      <th>3</th>\n",
       "      <td>3</td>\n",
       "      <td>AL</td>\n",
       "      <td>01</td>\n",
       "      <td>007</td>\n",
       "      <td>Bibb County</td>\n",
       "      <td>H1</td>\n",
       "      <td>01007</td>\n",
       "      <td>2014</td>\n",
       "    </tr>\n",
       "    <tr>\n",
       "      <th>4</th>\n",
       "      <td>4</td>\n",
       "      <td>AL</td>\n",
       "      <td>01</td>\n",
       "      <td>009</td>\n",
       "      <td>Blount County</td>\n",
       "      <td>H1</td>\n",
       "      <td>01009</td>\n",
       "      <td>2014</td>\n",
       "    </tr>\n",
       "  </tbody>\n",
       "</table>\n",
       "</div>"
      ],
      "text/plain": [
       "   index StateCode StateFP CountyFP      CountyName ClassFP County  \\\n",
       "0      0        AL      01      001  Autauga County      H1  01001   \n",
       "1      1        AL      01      003  Baldwin County      H1  01003   \n",
       "2      2        AL      01      005  Barbour County      H1  01005   \n",
       "3      3        AL      01      007     Bibb County      H1  01007   \n",
       "4      4        AL      01      009   Blount County      H1  01009   \n",
       "\n",
       "   BusinessYear  \n",
       "0          2014  \n",
       "1          2014  \n",
       "2          2014  \n",
       "3          2014  \n",
       "4          2014  "
      ]
     },
     "execution_count": 66,
     "metadata": {},
     "output_type": "execute_result"
    }
   ],
   "source": [
    "fipsCodes.head()"
   ]
  },
  {
   "cell_type": "markdown",
   "metadata": {},
   "source": [
    "Join the counties from fipsCode dataSet with the entireStates. This way, we can associate an issuer who covers an entire state with each of the counties in that state.  "
   ]
  },
  {
   "cell_type": "code",
   "execution_count": 73,
   "metadata": {
    "collapsed": false
   },
   "outputs": [],
   "source": [
    "entireStateByCounties = entireState.merge(fipsCodes, on=['BusinessYear', 'StateCode'])"
   ]
  },
  {
   "cell_type": "markdown",
   "metadata": {},
   "source": [
    "Get servicesAreas/issuers who cover specific counties"
   ]
  },
  {
   "cell_type": "code",
   "execution_count": 52,
   "metadata": {
    "collapsed": false
   },
   "outputs": [
    {
     "data": {
      "text/html": [
       "<div>\n",
       "<table border=\"1\" class=\"dataframe\">\n",
       "  <thead>\n",
       "    <tr style=\"text-align: right;\">\n",
       "      <th></th>\n",
       "      <th>BusinessYear</th>\n",
       "      <th>StateCode</th>\n",
       "      <th>IssuerId</th>\n",
       "      <th>County</th>\n",
       "    </tr>\n",
       "  </thead>\n",
       "  <tbody>\n",
       "    <tr>\n",
       "      <th>0</th>\n",
       "      <td>2014</td>\n",
       "      <td>AR</td>\n",
       "      <td>62141</td>\n",
       "      <td>5005</td>\n",
       "    </tr>\n",
       "    <tr>\n",
       "      <th>1</th>\n",
       "      <td>2014</td>\n",
       "      <td>AR</td>\n",
       "      <td>70525</td>\n",
       "      <td>5005</td>\n",
       "    </tr>\n",
       "    <tr>\n",
       "      <th>2</th>\n",
       "      <td>2014</td>\n",
       "      <td>AR</td>\n",
       "      <td>62141</td>\n",
       "      <td>5007</td>\n",
       "    </tr>\n",
       "    <tr>\n",
       "      <th>3</th>\n",
       "      <td>2014</td>\n",
       "      <td>AR</td>\n",
       "      <td>70525</td>\n",
       "      <td>5007</td>\n",
       "    </tr>\n",
       "    <tr>\n",
       "      <th>4</th>\n",
       "      <td>2014</td>\n",
       "      <td>AR</td>\n",
       "      <td>62141</td>\n",
       "      <td>5009</td>\n",
       "    </tr>\n",
       "  </tbody>\n",
       "</table>\n",
       "</div>"
      ],
      "text/plain": [
       "   BusinessYear StateCode  IssuerId County\n",
       "0          2014        AR     62141   5005\n",
       "1          2014        AR     70525   5005\n",
       "2          2014        AR     62141   5007\n",
       "3          2014        AR     70525   5007\n",
       "4          2014        AR     62141   5009"
      ]
     },
     "execution_count": 52,
     "metadata": {},
     "output_type": "execute_result"
    }
   ],
   "source": [
    "colsToKeep = ['BusinessYear', 'StateCode', 'IssuerId', 'County']\n",
    "countyIssuer = (svAreas[(svAreas.County.notnull())]\n",
    "               .groupby(['BusinessYear','StateCode', 'County', 'IssuerId'])\n",
    "               .count()\n",
    "               .reset_index()[colsToKeep])\n",
    "countyIssuer.head()"
   ]
  },
  {
   "cell_type": "markdown",
   "metadata": {},
   "source": [
    "Convert fips codes to five digits to facilitate joining."
   ]
  },
  {
   "cell_type": "code",
   "execution_count": 80,
   "metadata": {
    "collapsed": true
   },
   "outputs": [],
   "source": [
    "def fipsToFive(fips):\n",
    "    fipsLen = len(fips)\n",
    "    if fipsLen < 5:\n",
    "        zerosNeeded = '0' * (5 - fipsLen)\n",
    "        fips = zerosNeeded + fips\n",
    "    return fips\n",
    "countyIssuer['County'] = countyIssuer.County.apply(fipsToFive)"
   ]
  },
  {
   "cell_type": "markdown",
   "metadata": {},
   "source": [
    "Concatenate the issuers who cover an entire state with those who cover specific counties."
   ]
  },
  {
   "cell_type": "code",
   "execution_count": 89,
   "metadata": {
    "collapsed": false
   },
   "outputs": [
    {
     "data": {
      "text/html": [
       "<div>\n",
       "<table border=\"1\" class=\"dataframe\">\n",
       "  <thead>\n",
       "    <tr style=\"text-align: right;\">\n",
       "      <th></th>\n",
       "      <th>BusinessYear</th>\n",
       "      <th>StateCode</th>\n",
       "      <th>IssuerId</th>\n",
       "      <th>County</th>\n",
       "    </tr>\n",
       "  </thead>\n",
       "  <tbody>\n",
       "    <tr>\n",
       "      <th>0</th>\n",
       "      <td>2014</td>\n",
       "      <td>AR</td>\n",
       "      <td>62141</td>\n",
       "      <td>05005</td>\n",
       "    </tr>\n",
       "    <tr>\n",
       "      <th>1</th>\n",
       "      <td>2014</td>\n",
       "      <td>AR</td>\n",
       "      <td>70525</td>\n",
       "      <td>05005</td>\n",
       "    </tr>\n",
       "    <tr>\n",
       "      <th>2</th>\n",
       "      <td>2014</td>\n",
       "      <td>AR</td>\n",
       "      <td>62141</td>\n",
       "      <td>05007</td>\n",
       "    </tr>\n",
       "    <tr>\n",
       "      <th>3</th>\n",
       "      <td>2014</td>\n",
       "      <td>AR</td>\n",
       "      <td>70525</td>\n",
       "      <td>05007</td>\n",
       "    </tr>\n",
       "    <tr>\n",
       "      <th>4</th>\n",
       "      <td>2014</td>\n",
       "      <td>AR</td>\n",
       "      <td>62141</td>\n",
       "      <td>05009</td>\n",
       "    </tr>\n",
       "  </tbody>\n",
       "</table>\n",
       "</div>"
      ],
      "text/plain": [
       "   BusinessYear StateCode  IssuerId County\n",
       "0          2014        AR     62141  05005\n",
       "1          2014        AR     70525  05005\n",
       "2          2014        AR     62141  05007\n",
       "3          2014        AR     70525  05007\n",
       "4          2014        AR     62141  05009"
      ]
     },
     "execution_count": 89,
     "metadata": {},
     "output_type": "execute_result"
    }
   ],
   "source": [
    "entireAndCounties = pd.concat([countyIssuer, entireStateByCounties[colsToKeep]])\n",
    "entireAndCounties.head()"
   ]
  },
  {
   "cell_type": "markdown",
   "metadata": {
    "collapsed": true
   },
   "source": [
    "Count the distinct number of issuers per county in each year."
   ]
  },
  {
   "cell_type": "code",
   "execution_count": 95,
   "metadata": {
    "collapsed": false
   },
   "outputs": [],
   "source": [
    "issuerCounts = entireAndCounties.groupby(['BusinessYear', 'StateCode', 'County']).agg({'IssuerId': lambda x: x.nunique()}).reset_index()\n",
    "issuerCounts = issuerCounts.rename(columns={'IssuerId': 'NumIssuers'})"
   ]
  },
  {
   "cell_type": "code",
   "execution_count": 105,
   "metadata": {
    "collapsed": false
   },
   "outputs": [
    {
     "data": {
      "text/plain": [
       "BusinessYear    2014.000000\n",
       "NumIssuers         2.055024\n",
       "dtype: float64"
      ]
     },
     "execution_count": 105,
     "metadata": {},
     "output_type": "execute_result"
    }
   ],
   "source": [
    "issuerCounts[issuerCounts.BusinessYear == 2014].mean()"
   ]
  },
  {
   "cell_type": "code",
   "execution_count": 112,
   "metadata": {
    "collapsed": false
   },
   "outputs": [],
   "source": [
    "issuerCounts.to_csv('issuerCounts.csv', index=False)"
   ]
  }
 ],
 "metadata": {
  "kernelspec": {
   "display_name": "Python 3",
   "language": "python",
   "name": "python3"
  },
  "language_info": {
   "codemirror_mode": {
    "name": "ipython",
    "version": 3
   },
   "file_extension": ".py",
   "mimetype": "text/x-python",
   "name": "python",
   "nbconvert_exporter": "python",
   "pygments_lexer": "ipython3",
   "version": "3.5.1"
  }
 },
 "nbformat": 4,
 "nbformat_minor": 2
}
