{
 "cells": [
  {
   "cell_type": "code",
   "execution_count": 237,
   "metadata": {
    "collapsed": false
   },
   "outputs": [],
   "source": [
    "import folium\n",
    "import pandas as pd\n",
    "import numpy as np\n",
    "import matplotlib.pyplot as plt\n",
    "import seaborn as sns\n",
    "import matplotlib\n",
    "matplotlib.rcParams['figure.figsize'] = (15.0, 15.0)\n",
    "%matplotlib inline"
   ]
  },
  {
   "cell_type": "code",
   "execution_count": 181,
   "metadata": {
    "collapsed": true
   },
   "outputs": [],
   "source": [
    "PUF2014 = ['ME', 'AK', 'AR', 'DE', 'GA', 'IL', 'IN', 'KS', 'LA', 'MO', 'MI',\n",
    "       'MT', 'NH', 'NM', 'OK', 'PA', 'SC', 'TN', 'TX', 'VA', 'WI', 'WV',\n",
    "       'IA', 'ID', 'NE', 'OH', 'SD', 'UT']\n",
    "\n",
    "PUF2015 = ['KS', 'LA', 'ME', 'MI', 'AK', 'AR', 'DE', 'GA', 'IL', 'IN', 'MO',\n",
    "       'MT', 'NC', 'NH', 'NM', 'NV', 'OK', 'OR', 'PA', 'SC', 'TN', 'TX',\n",
    "       'UT', 'VA', 'IA', 'WI', 'WV', 'NE', 'OH', 'SD']\n",
    "\n",
    "PUF2016 = ['AK', 'AL', 'AR', 'DE', 'GA', 'IL', 'IN', 'KS', 'LA', 'ME', 'MI',\n",
    "       'MO', 'MT', 'NC', 'NH', 'NM', 'NV', 'OK', 'PA', 'SC', 'TN', 'TX',\n",
    "       'VA', 'HI', 'IA', 'WI', 'WV', 'NE', 'OH', 'OR', 'SD', 'UT']\n",
    "\n",
    "PUF2017 = ['AL', 'AR', 'GA', 'IL', 'IN', 'KY', 'ME', 'MI', 'MO', 'MT', 'NH',\n",
    "       'NM', 'NV', 'OK', 'SC', 'TX', 'VA', 'WI', 'DE', 'HI', 'IA', 'KS',\n",
    "       'NE', 'OH', 'OR', 'PA', 'SD', 'UT', 'WV']\n"
   ]
  },
  {
   "cell_type": "markdown",
   "metadata": {},
   "source": [
    "https://gist.github.com/wrobstory/5609889#file-choro-py"
   ]
  },
  {
   "cell_type": "code",
   "execution_count": 199,
   "metadata": {
    "collapsed": false
   },
   "outputs": [
    {
     "data": {
      "text/html": [
       "<div>\n",
       "<table border=\"1\" class=\"dataframe\">\n",
       "  <thead>\n",
       "    <tr style=\"text-align: right;\">\n",
       "      <th></th>\n",
       "      <th>BusinessYear</th>\n",
       "      <th>StateCode</th>\n",
       "      <th>County</th>\n",
       "      <th>NumIssuers</th>\n",
       "    </tr>\n",
       "  </thead>\n",
       "  <tbody>\n",
       "    <tr>\n",
       "      <th>0</th>\n",
       "      <td>2014</td>\n",
       "      <td>AK</td>\n",
       "      <td>02013</td>\n",
       "      <td>1</td>\n",
       "    </tr>\n",
       "    <tr>\n",
       "      <th>1</th>\n",
       "      <td>2014</td>\n",
       "      <td>AK</td>\n",
       "      <td>02016</td>\n",
       "      <td>1</td>\n",
       "    </tr>\n",
       "    <tr>\n",
       "      <th>2</th>\n",
       "      <td>2014</td>\n",
       "      <td>AK</td>\n",
       "      <td>02020</td>\n",
       "      <td>1</td>\n",
       "    </tr>\n",
       "    <tr>\n",
       "      <th>3</th>\n",
       "      <td>2014</td>\n",
       "      <td>AK</td>\n",
       "      <td>02050</td>\n",
       "      <td>1</td>\n",
       "    </tr>\n",
       "    <tr>\n",
       "      <th>4</th>\n",
       "      <td>2014</td>\n",
       "      <td>AK</td>\n",
       "      <td>02060</td>\n",
       "      <td>1</td>\n",
       "    </tr>\n",
       "  </tbody>\n",
       "</table>\n",
       "</div>"
      ],
      "text/plain": [
       "   BusinessYear StateCode County  NumIssuers\n",
       "0          2014        AK  02013           1\n",
       "1          2014        AK  02016           1\n",
       "2          2014        AK  02020           1\n",
       "3          2014        AK  02050           1\n",
       "4          2014        AK  02060           1"
      ]
     },
     "execution_count": 199,
     "metadata": {},
     "output_type": "execute_result"
    }
   ],
   "source": [
    "issuerCounts = pd.read_csv('issuerCounts.csv', dtype={'County': str})\n",
    "issuerCounts.head()"
   ]
  },
  {
   "cell_type": "code",
   "execution_count": 200,
   "metadata": {
    "collapsed": false
   },
   "outputs": [
    {
     "data": {
      "text/html": [
       "<div>\n",
       "<table border=\"1\" class=\"dataframe\">\n",
       "  <thead>\n",
       "    <tr style=\"text-align: right;\">\n",
       "      <th></th>\n",
       "      <th>County</th>\n",
       "      <th>StateCode</th>\n",
       "    </tr>\n",
       "  </thead>\n",
       "  <tbody>\n",
       "    <tr>\n",
       "      <th>0</th>\n",
       "      <td>01001</td>\n",
       "      <td>AL</td>\n",
       "    </tr>\n",
       "    <tr>\n",
       "      <th>1</th>\n",
       "      <td>01003</td>\n",
       "      <td>AL</td>\n",
       "    </tr>\n",
       "    <tr>\n",
       "      <th>2</th>\n",
       "      <td>01005</td>\n",
       "      <td>AL</td>\n",
       "    </tr>\n",
       "    <tr>\n",
       "      <th>3</th>\n",
       "      <td>01007</td>\n",
       "      <td>AL</td>\n",
       "    </tr>\n",
       "    <tr>\n",
       "      <th>4</th>\n",
       "      <td>01009</td>\n",
       "      <td>AL</td>\n",
       "    </tr>\n",
       "  </tbody>\n",
       "</table>\n",
       "</div>"
      ],
      "text/plain": [
       "  County StateCode\n",
       "0  01001        AL\n",
       "1  01003        AL\n",
       "2  01005        AL\n",
       "3  01007        AL\n",
       "4  01009        AL"
      ]
     },
     "execution_count": 200,
     "metadata": {},
     "output_type": "execute_result"
    }
   ],
   "source": [
    "dtypes = {0:str,1:str,2:str, 3:str, 4:str}\n",
    "colsToKeep = ['County', 'StateCode']\n",
    "colNames = {0:'StateCode',1:'StateFP',2:'CountyFP', 3:'CountyName', 4:'ClassFP'}\n",
    "fipsCodes = pd.read_csv('fips-codes.csv', header=None, dtype=dtypes).rename(columns=colNames)\n",
    "fipsCodes['County'] = fipsCodes.StateFP.str.cat(fipsCodes.CountyFP)\n",
    "fipsCodes = fipsCodes[colsToKeep]\n",
    "fipsCodes.head()"
   ]
  },
  {
   "cell_type": "code",
   "execution_count": 212,
   "metadata": {
    "collapsed": true
   },
   "outputs": [],
   "source": [
    "def getAllCounties(df):\n",
    "    return df.merge(fipsCodes, on=['StateCode','County'], how='outer')\n",
    "\n",
    "def fillNas(df, PUF):\n",
    "    df.loc[~df.StateCode.isin(PUF), 'NumIssuers'] = 0\n",
    "    return df\n",
    "\n",
    "def set_id(fips):\n",
    "    '''Modify FIPS code to match GeoJSON property'''\n",
    "    if fips == '0':\n",
    "        return None\n",
    "    elif len(fips) <= 4:\n",
    "        return ''.join(['0500000US0', fips])\n",
    "    else:\n",
    "        return ''.join(['0500000US', fips])\n",
    "\n",
    "def prepCountyDf(df, PUF):\n",
    "    df = getAllCounties(df)\n",
    "    df = fillNas(df,PUF)\n",
    "    df['County'] = df.County.apply(set_id)\n",
    "    return df"
   ]
  },
  {
   "cell_type": "code",
   "execution_count": 214,
   "metadata": {
    "collapsed": false
   },
   "outputs": [],
   "source": [
    "seventeen = prepCountyDf(seventeen, PUF2017)\n",
    "seventeen['modNum'] = seventeen.NumIssuers.apply(lambda x: 2 if x > 1 else x)"
   ]
  },
  {
   "cell_type": "code",
   "execution_count": 219,
   "metadata": {
    "collapsed": true
   },
   "outputs": [],
   "source": [
    "countyGeo = r'us_counties_topo.json'\n",
    "\n",
    "def makeCountyMap(df, dataCol):\n",
    "    m = folium.Map(location=[43, -100], zoom_start=4)\n",
    "    m.choropleth(\n",
    "        geo_path=countyGeo,\n",
    "        data=df,\n",
    "        columns=['County',dataCol],\n",
    "        key_on='feature.id',\n",
    "        topojson='objects.us_counties_20m',\n",
    "        fill_color='PuBuGn')\n",
    "    return m"
   ]
  },
  {
   "cell_type": "markdown",
   "metadata": {},
   "source": [
    "seventeenM = makeCountyMap(seventeen, 'modNum')\n",
    "seventeenM"
   ]
  },
  {
   "cell_type": "markdown",
   "metadata": {},
   "source": [
    "sixteen = prepCountyDf(issuerCounts[issuerCounts.BusinessYear == 2016], PUF2016)\n",
    "sixteen['modNum'] = sixteen.NumIssuers.apply(lambda x: 2 if x > 1 else x)\n",
    "sixteenM = makeCountyMap(sixteen, 'modNum')\n",
    "sixteenM"
   ]
  },
  {
   "cell_type": "markdown",
   "metadata": {},
   "source": [
    "fifteen = prepCountyDf(issuerCounts[issuerCounts.BusinessYear == 2015], PUF2015)\n",
    "fifteen['modNum'] = sixteen.NumIssuers.apply(lambda x: 2 if x > 1 else x)\n",
    "fifteenM = makeCountyMap(fifteen, 'modNum')\n",
    "fifteenM"
   ]
  },
  {
   "cell_type": "markdown",
   "metadata": {
    "collapsed": false
   },
   "source": [
    "fourteen = prepCountyDf(issuerCounts[issuerCounts.BusinessYear == 2014], PUF2014)\n",
    "fourteen['modNum'] = fourteen.NumIssuers.apply(lambda x: 2 if x > 1 else x)\n",
    "fourteenM = makeCountyMap(fourteen, 'modNum')\n",
    "fourteenM"
   ]
  },
  {
   "cell_type": "code",
   "execution_count": 230,
   "metadata": {
    "collapsed": false
   },
   "outputs": [
    {
     "data": {
      "text/plain": [
       "BusinessYear\n",
       "2014    2.055024\n",
       "2015    2.406803\n",
       "2016    2.428698\n",
       "2017    1.931883\n",
       "Name: NumIssuers, dtype: float64"
      ]
     },
     "execution_count": 230,
     "metadata": {},
     "output_type": "execute_result"
    }
   ],
   "source": [
    "issuerCounts.groupby('BusinessYear').NumIssuers.mean()"
   ]
  },
  {
   "cell_type": "code",
   "execution_count": 232,
   "metadata": {
    "collapsed": false
   },
   "outputs": [
    {
     "data": {
      "text/plain": [
       "BusinessYear\n",
       "2014    0.513876\n",
       "2015    0.534240\n",
       "2016    0.533215\n",
       "2017    0.465941\n",
       "dtype: float64"
      ]
     },
     "execution_count": 232,
     "metadata": {},
     "output_type": "execute_result"
    }
   ],
   "source": [
    "def getPercOne(g):\n",
    "    return g[g.NumIssuers < 2].shape[0] / g.shape[0]\n",
    "issuerCounts.groupby('BusinessYear').apply(getPercOne)"
   ]
  },
  {
   "cell_type": "code",
   "execution_count": 241,
   "metadata": {
    "collapsed": false
   },
   "outputs": [
    {
     "data": {
      "text/plain": [
       "<seaborn.axisgrid.FacetGrid at 0x1291f1898>"
      ]
     },
     "execution_count": 241,
     "metadata": {},
     "output_type": "execute_result"
    },
    {
     "data": {
      "image/png": "[encoded data removed]",
      "text/plain": [
       "<matplotlib.figure.Figure at 0x1291cb828>"
      ]
     },
     "metadata": {},
     "output_type": "display_data"
    }
   ],
   "source": [
    "g = sns.FacetGrid(data=issuerCounts, col='BusinessYear', size=5, aspect=1, col_wrap=2, sharex=False)\n",
    "g.map(sns.distplot, 'NumIssuers', norm_hist =True)"
   ]
  },
  {
   "cell_type": "code",
   "execution_count": 246,
   "metadata": {
    "collapsed": false
   },
   "outputs": [
    {
     "data": {
      "image/png": "[encoded data removed]",
      "text/plain": [
       "<matplotlib.figure.Figure at 0x12c4245c0>"
      ]
     },
     "metadata": {},
     "output_type": "display_data"
    },
    {
     "data": {
      "image/png": "[encoded data removed]",
      "text/plain": [
       "<matplotlib.figure.Figure at 0x1310b2a90>"
      ]
     },
     "metadata": {},
     "output_type": "display_data"
    },
    {
     "data": {
      "image/png": "[encoded data removed]",
      "text/plain": [
       "<matplotlib.figure.Figure at 0x1313cbb38>"
      ]
     },
     "metadata": {},
     "output_type": "display_data"
    },
    {
     "data": {
      "image/png": "[encoded data removed]",
      "text/plain": [
       "<matplotlib.figure.Figure at 0x13140cf28>"
      ]
     },
     "metadata": {},
     "output_type": "display_data"
    }
   ],
   "source": [
    "bins = range(0,18)\n",
    "for year in [2014, 2015, 2016, 2017]:\n",
    "    sns.distplot(issuerCounts[issuerCounts.BusinessYear == year].NumIssuers, kde=False, bins=bins)\n",
    "    plt.title(year)\n",
    "    plt.show()"
   ]
  },
  {
   "cell_type": "code",
   "execution_count": null,
   "metadata": {
    "collapsed": true
   },
   "outputs": [],
   "source": []
  }
 ],
 "metadata": {
  "kernelspec": {
   "display_name": "Python 3",
   "language": "python",
   "name": "python3"
  },
  "language_info": {
   "codemirror_mode": {
    "name": "ipython",
    "version": 3
   },
   "file_extension": ".py",
   "mimetype": "text/x-python",
   "name": "python",
   "nbconvert_exporter": "python",
   "pygments_lexer": "ipython3",
   "version": "3.5.1"
  }
 },
 "nbformat": 4,
 "nbformat_minor": 0
}
